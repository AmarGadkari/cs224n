{
  "nbformat": 4,
  "nbformat_minor": 0,
  "metadata": {
    "colab": {
      "provenance": []
    },
    "kernelspec": {
      "name": "python3",
      "display_name": "Python 3"
    },
    "language_info": {
      "name": "python"
    }
  },
  "cells": [
    {
      "cell_type": "code",
      "execution_count": 1,
      "metadata": {
        "colab": {
          "base_uri": "https://localhost:8080/"
        },
        "id": "HQKBtE7_AUwP",
        "outputId": "f818367c-311c-4273-b451-1e7512c9e110"
      },
      "outputs": [
        {
          "output_type": "stream",
          "name": "stdout",
          "text": [
            "Requirement already satisfied: pandas==1.5.3 in /usr/local/lib/python3.10/dist-packages (1.5.3)\n",
            "Requirement already satisfied: python-dateutil>=2.8.1 in /usr/local/lib/python3.10/dist-packages (from pandas==1.5.3) (2.8.2)\n",
            "Requirement already satisfied: pytz>=2020.1 in /usr/local/lib/python3.10/dist-packages (from pandas==1.5.3) (2023.4)\n",
            "Requirement already satisfied: numpy>=1.21.0 in /usr/local/lib/python3.10/dist-packages (from pandas==1.5.3) (1.25.2)\n",
            "Requirement already satisfied: six>=1.5 in /usr/local/lib/python3.10/dist-packages (from python-dateutil>=2.8.1->pandas==1.5.3) (1.16.0)\n",
            "Collecting sentence-transformers\n",
            "  Downloading sentence_transformers-2.4.0-py3-none-any.whl (149 kB)\n",
            "\u001b[2K     \u001b[90m━━━━━━━━━━━━━━━━━━━━━━━━━━━━━━━━━━━━━━━━\u001b[0m \u001b[32m149.5/149.5 kB\u001b[0m \u001b[31m2.2 MB/s\u001b[0m eta \u001b[36m0:00:00\u001b[0m\n",
            "\u001b[?25hCollecting accelerate\n",
            "  Downloading accelerate-0.27.2-py3-none-any.whl (279 kB)\n",
            "\u001b[2K     \u001b[90m━━━━━━━━━━━━━━━━━━━━━━━━━━━━━━━━━━━━━━━━\u001b[0m \u001b[32m280.0/280.0 kB\u001b[0m \u001b[31m12.1 MB/s\u001b[0m eta \u001b[36m0:00:00\u001b[0m\n",
            "\u001b[?25hRequirement already satisfied: transformers<5.0.0,>=4.32.0 in /usr/local/lib/python3.10/dist-packages (from sentence-transformers) (4.37.2)\n",
            "Requirement already satisfied: tqdm in /usr/local/lib/python3.10/dist-packages (from sentence-transformers) (4.66.2)\n",
            "Requirement already satisfied: torch>=1.11.0 in /usr/local/lib/python3.10/dist-packages (from sentence-transformers) (2.1.0+cu121)\n",
            "Requirement already satisfied: numpy in /usr/local/lib/python3.10/dist-packages (from sentence-transformers) (1.25.2)\n",
            "Requirement already satisfied: scikit-learn in /usr/local/lib/python3.10/dist-packages (from sentence-transformers) (1.2.2)\n",
            "Requirement already satisfied: scipy in /usr/local/lib/python3.10/dist-packages (from sentence-transformers) (1.11.4)\n",
            "Requirement already satisfied: huggingface-hub>=0.15.1 in /usr/local/lib/python3.10/dist-packages (from sentence-transformers) (0.20.3)\n",
            "Requirement already satisfied: Pillow in /usr/local/lib/python3.10/dist-packages (from sentence-transformers) (9.4.0)\n",
            "Requirement already satisfied: packaging>=20.0 in /usr/local/lib/python3.10/dist-packages (from accelerate) (23.2)\n",
            "Requirement already satisfied: psutil in /usr/local/lib/python3.10/dist-packages (from accelerate) (5.9.5)\n",
            "Requirement already satisfied: pyyaml in /usr/local/lib/python3.10/dist-packages (from accelerate) (6.0.1)\n",
            "Requirement already satisfied: safetensors>=0.3.1 in /usr/local/lib/python3.10/dist-packages (from accelerate) (0.4.2)\n",
            "Requirement already satisfied: filelock in /usr/local/lib/python3.10/dist-packages (from huggingface-hub>=0.15.1->sentence-transformers) (3.13.1)\n",
            "Requirement already satisfied: fsspec>=2023.5.0 in /usr/local/lib/python3.10/dist-packages (from huggingface-hub>=0.15.1->sentence-transformers) (2023.6.0)\n",
            "Requirement already satisfied: requests in /usr/local/lib/python3.10/dist-packages (from huggingface-hub>=0.15.1->sentence-transformers) (2.31.0)\n",
            "Requirement already satisfied: typing-extensions>=3.7.4.3 in /usr/local/lib/python3.10/dist-packages (from huggingface-hub>=0.15.1->sentence-transformers) (4.9.0)\n",
            "Requirement already satisfied: sympy in /usr/local/lib/python3.10/dist-packages (from torch>=1.11.0->sentence-transformers) (1.12)\n",
            "Requirement already satisfied: networkx in /usr/local/lib/python3.10/dist-packages (from torch>=1.11.0->sentence-transformers) (3.2.1)\n",
            "Requirement already satisfied: jinja2 in /usr/local/lib/python3.10/dist-packages (from torch>=1.11.0->sentence-transformers) (3.1.3)\n",
            "Requirement already satisfied: triton==2.1.0 in /usr/local/lib/python3.10/dist-packages (from torch>=1.11.0->sentence-transformers) (2.1.0)\n",
            "Requirement already satisfied: regex!=2019.12.17 in /usr/local/lib/python3.10/dist-packages (from transformers<5.0.0,>=4.32.0->sentence-transformers) (2023.12.25)\n",
            "Requirement already satisfied: tokenizers<0.19,>=0.14 in /usr/local/lib/python3.10/dist-packages (from transformers<5.0.0,>=4.32.0->sentence-transformers) (0.15.2)\n",
            "Requirement already satisfied: joblib>=1.1.1 in /usr/local/lib/python3.10/dist-packages (from scikit-learn->sentence-transformers) (1.3.2)\n",
            "Requirement already satisfied: threadpoolctl>=2.0.0 in /usr/local/lib/python3.10/dist-packages (from scikit-learn->sentence-transformers) (3.3.0)\n",
            "Requirement already satisfied: MarkupSafe>=2.0 in /usr/local/lib/python3.10/dist-packages (from jinja2->torch>=1.11.0->sentence-transformers) (2.1.5)\n",
            "Requirement already satisfied: charset-normalizer<4,>=2 in /usr/local/lib/python3.10/dist-packages (from requests->huggingface-hub>=0.15.1->sentence-transformers) (3.3.2)\n",
            "Requirement already satisfied: idna<4,>=2.5 in /usr/local/lib/python3.10/dist-packages (from requests->huggingface-hub>=0.15.1->sentence-transformers) (3.6)\n",
            "Requirement already satisfied: urllib3<3,>=1.21.1 in /usr/local/lib/python3.10/dist-packages (from requests->huggingface-hub>=0.15.1->sentence-transformers) (2.0.7)\n",
            "Requirement already satisfied: certifi>=2017.4.17 in /usr/local/lib/python3.10/dist-packages (from requests->huggingface-hub>=0.15.1->sentence-transformers) (2024.2.2)\n",
            "Requirement already satisfied: mpmath>=0.19 in /usr/local/lib/python3.10/dist-packages (from sympy->torch>=1.11.0->sentence-transformers) (1.3.0)\n",
            "Installing collected packages: accelerate, sentence-transformers\n",
            "Successfully installed accelerate-0.27.2 sentence-transformers-2.4.0\n",
            "Requirement already satisfied: transformers[torch] in /usr/local/lib/python3.10/dist-packages (4.37.2)\n",
            "Collecting transformers[torch]\n",
            "  Downloading transformers-4.38.1-py3-none-any.whl (8.5 MB)\n",
            "\u001b[2K     \u001b[90m━━━━━━━━━━━━━━━━━━━━━━━━━━━━━━━━━━━━━━━━\u001b[0m \u001b[32m8.5/8.5 MB\u001b[0m \u001b[31m18.5 MB/s\u001b[0m eta \u001b[36m0:00:00\u001b[0m\n",
            "\u001b[?25hRequirement already satisfied: filelock in /usr/local/lib/python3.10/dist-packages (from transformers[torch]) (3.13.1)\n",
            "Requirement already satisfied: huggingface-hub<1.0,>=0.19.3 in /usr/local/lib/python3.10/dist-packages (from transformers[torch]) (0.20.3)\n",
            "Requirement already satisfied: numpy>=1.17 in /usr/local/lib/python3.10/dist-packages (from transformers[torch]) (1.25.2)\n",
            "Requirement already satisfied: packaging>=20.0 in /usr/local/lib/python3.10/dist-packages (from transformers[torch]) (23.2)\n",
            "Requirement already satisfied: pyyaml>=5.1 in /usr/local/lib/python3.10/dist-packages (from transformers[torch]) (6.0.1)\n",
            "Requirement already satisfied: regex!=2019.12.17 in /usr/local/lib/python3.10/dist-packages (from transformers[torch]) (2023.12.25)\n",
            "Requirement already satisfied: requests in /usr/local/lib/python3.10/dist-packages (from transformers[torch]) (2.31.0)\n",
            "Requirement already satisfied: tokenizers<0.19,>=0.14 in /usr/local/lib/python3.10/dist-packages (from transformers[torch]) (0.15.2)\n",
            "Requirement already satisfied: safetensors>=0.4.1 in /usr/local/lib/python3.10/dist-packages (from transformers[torch]) (0.4.2)\n",
            "Requirement already satisfied: tqdm>=4.27 in /usr/local/lib/python3.10/dist-packages (from transformers[torch]) (4.66.2)\n",
            "Requirement already satisfied: torch in /usr/local/lib/python3.10/dist-packages (from transformers[torch]) (2.1.0+cu121)\n",
            "Requirement already satisfied: accelerate>=0.21.0 in /usr/local/lib/python3.10/dist-packages (from transformers[torch]) (0.27.2)\n",
            "Requirement already satisfied: psutil in /usr/local/lib/python3.10/dist-packages (from accelerate>=0.21.0->transformers[torch]) (5.9.5)\n",
            "Requirement already satisfied: fsspec>=2023.5.0 in /usr/local/lib/python3.10/dist-packages (from huggingface-hub<1.0,>=0.19.3->transformers[torch]) (2023.6.0)\n",
            "Requirement already satisfied: typing-extensions>=3.7.4.3 in /usr/local/lib/python3.10/dist-packages (from huggingface-hub<1.0,>=0.19.3->transformers[torch]) (4.9.0)\n",
            "Requirement already satisfied: sympy in /usr/local/lib/python3.10/dist-packages (from torch->transformers[torch]) (1.12)\n",
            "Requirement already satisfied: networkx in /usr/local/lib/python3.10/dist-packages (from torch->transformers[torch]) (3.2.1)\n",
            "Requirement already satisfied: jinja2 in /usr/local/lib/python3.10/dist-packages (from torch->transformers[torch]) (3.1.3)\n",
            "Requirement already satisfied: triton==2.1.0 in /usr/local/lib/python3.10/dist-packages (from torch->transformers[torch]) (2.1.0)\n",
            "Requirement already satisfied: charset-normalizer<4,>=2 in /usr/local/lib/python3.10/dist-packages (from requests->transformers[torch]) (3.3.2)\n",
            "Requirement already satisfied: idna<4,>=2.5 in /usr/local/lib/python3.10/dist-packages (from requests->transformers[torch]) (3.6)\n",
            "Requirement already satisfied: urllib3<3,>=1.21.1 in /usr/local/lib/python3.10/dist-packages (from requests->transformers[torch]) (2.0.7)\n",
            "Requirement already satisfied: certifi>=2017.4.17 in /usr/local/lib/python3.10/dist-packages (from requests->transformers[torch]) (2024.2.2)\n",
            "Requirement already satisfied: MarkupSafe>=2.0 in /usr/local/lib/python3.10/dist-packages (from jinja2->torch->transformers[torch]) (2.1.5)\n",
            "Requirement already satisfied: mpmath>=0.19 in /usr/local/lib/python3.10/dist-packages (from sympy->torch->transformers[torch]) (1.3.0)\n",
            "Installing collected packages: transformers\n",
            "  Attempting uninstall: transformers\n",
            "    Found existing installation: transformers 4.37.2\n",
            "    Uninstalling transformers-4.37.2:\n",
            "      Successfully uninstalled transformers-4.37.2\n",
            "Successfully installed transformers-4.38.1\n",
            "Accelerate version: 0.27.2\n",
            "Transformers version: 4.38.1\n"
          ]
        }
      ],
      "source": [
        "!pip install pandas==1.5.3\n",
        "!pip install sentence-transformers accelerate -U\n",
        "!pip install transformers[torch] -U\n",
        "\n",
        "import accelerate\n",
        "import transformers\n",
        "print(\"Accelerate version:\", accelerate.__version__)\n",
        "print(\"Transformers version:\", transformers.__version__)"
      ]
    },
    {
      "cell_type": "code",
      "source": [
        "from pydrive2.auth import GoogleAuth\n",
        "from pydrive2.drive import GoogleDrive\n",
        "from google.colab import auth\n",
        "from oauth2client.client import GoogleCredentials\n",
        "\n",
        "# Authenticate and create the PyDrive client\n",
        "auth.authenticate_user()\n",
        "gauth = GoogleAuth()\n",
        "gauth.credentials = GoogleCredentials.get_application_default()\n",
        "drive = GoogleDrive(gauth)"
      ],
      "metadata": {
        "id": "kisSICzTaibq"
      },
      "execution_count": 2,
      "outputs": []
    },
    {
      "cell_type": "code",
      "source": [
        "import pandas as pd\n",
        "\n",
        "epa_data = drive.CreateFile({'id': '1nOdK7YrAzx-2ZpKZCd620rbSG9qLLxZp'})\n",
        "epa_data.GetContentFile('EPA_EmissionsData.csv')\n",
        "factor_df = pd.read_csv('EPA_EmissionsData.csv')\n",
        "print(factor_df.head())\n",
        "\n",
        "activity_data = drive.CreateFile({'id': '1smUkjfTvvHmx2QiCfDImKOOtdCSb4dTk'})\n",
        "activity_data.GetContentFile('business_activities_training_data.csv')\n",
        "activity_df = pd.read_csv('business_activities_training_data.csv')\n",
        "print(activity_df.head())"
      ],
      "metadata": {
        "colab": {
          "base_uri": "https://localhost:8080/"
        },
        "id": "gK8yCqGkakrk",
        "outputId": "c9785b50-7088-45ec-fed6-17e3f5e4d99b"
      },
      "execution_count": 4,
      "outputs": [
        {
          "output_type": "stream",
          "name": "stdout",
          "text": [
            "   2017 NAICS Code                  2017 NAICS Title       GHG  \\\n",
            "0           111110                   Soybean Farming  All GHGs   \n",
            "1           111120  Oilseed (except Soybean) Farming  All GHGs   \n",
            "2           111130          Dry Pea and Bean Farming  All GHGs   \n",
            "3           111140                     Wheat Farming  All GHGs   \n",
            "4           111150                      Corn Farming  All GHGs   \n",
            "\n",
            "                                Unit  \\\n",
            "0  kg CO2e/2021 USD, purchaser price   \n",
            "1  kg CO2e/2021 USD, purchaser price   \n",
            "2  kg CO2e/2021 USD, purchaser price   \n",
            "3  kg CO2e/2021 USD, purchaser price   \n",
            "4  kg CO2e/2021 USD, purchaser price   \n",
            "\n",
            "   Supply Chain Emission Factors without Margins  \\\n",
            "0                                          1.223   \n",
            "1                                          1.223   \n",
            "2                                          2.874   \n",
            "3                                          2.874   \n",
            "4                                          2.874   \n",
            "\n",
            "   Margins of Supply Chain Emission Factors  \\\n",
            "0                                     0.103   \n",
            "1                                     0.103   \n",
            "2                                     0.134   \n",
            "3                                     0.134   \n",
            "4                                     0.134   \n",
            "\n",
            "   Supply Chain Emission Factors with Margins Reference USEEIO Code  \n",
            "0                                       1.326                1111A0  \n",
            "1                                       1.326                1111A0  \n",
            "2                                       3.007                1111B0  \n",
            "3                                       3.007                1111B0  \n",
            "4                                       3.007                1111B0  \n",
            "                       business_activity_description      Cost       Vendor  \\\n",
            "0  Activities related to finfish farming and fish...  19824.14      CropGen   \n",
            "1  Activities related to dairy cattle and milk pr...  36390.68      CropGen   \n",
            "2               Activities related to orange groves.  18685.28   BioHarvest   \n",
            "3  Activities related to finfish farming and fish...  23104.34      CropGen   \n",
            "4           Activities related to shellfish farming.  18025.01  FreshFields   \n",
            "\n",
            "                                             Comment  \\\n",
            "0  Procured for finfish farming and fish hatcheri...   \n",
            "1  Procured for dairy cattle and milk production ...   \n",
            "2             Procured for orange groves operations.   \n",
            "3  Procured for finfish farming and fish hatcheri...   \n",
            "4         Procured for shellfish farming operations.   \n",
            "\n",
            "                      2017 NAICS Title  \n",
            "0  Finfish Farming and Fish Hatcheries  \n",
            "1     Dairy Cattle and Milk Production  \n",
            "2                        Orange Groves  \n",
            "3  Finfish Farming and Fish Hatcheries  \n",
            "4                    Shellfish Farming  \n"
          ]
        }
      ]
    },
    {
      "cell_type": "code",
      "source": [
        "print(f\"\\n\\nFactor Count: {factor_df.count()}\")\n",
        "print(f\"\\n\\nActivity Count: {activity_df.count()}\")"
      ],
      "metadata": {
        "colab": {
          "base_uri": "https://localhost:8080/"
        },
        "id": "qIeXWJs9db0N",
        "outputId": "92288767-8416-421a-cdbc-436ab1d48aab"
      },
      "execution_count": 5,
      "outputs": [
        {
          "output_type": "stream",
          "name": "stdout",
          "text": [
            "\n",
            "\n",
            "Factor Count: 2017 NAICS Code                                  1016\n",
            "2017 NAICS Title                                 1016\n",
            "GHG                                              1016\n",
            "Unit                                             1016\n",
            "Supply Chain Emission Factors without Margins    1016\n",
            "Margins of Supply Chain Emission Factors         1016\n",
            "Supply Chain Emission Factors with Margins       1016\n",
            "Reference USEEIO Code                            1016\n",
            "dtype: int64\n",
            "\n",
            "\n",
            "Activity Count: business_activity_description    4998\n",
            "Cost                             4998\n",
            "Vendor                           4998\n",
            "Comment                          4998\n",
            "2017 NAICS Title                 4998\n",
            "dtype: int64\n"
          ]
        }
      ]
    },
    {
      "cell_type": "code",
      "source": [
        "# import torch"
      ],
      "metadata": {
        "id": "dAHaixffDjL2"
      },
      "execution_count": null,
      "outputs": []
    },
    {
      "cell_type": "code",
      "source": [
        "# device = torch.device('cpu')"
      ],
      "metadata": {
        "id": "FDj8nmBtH_WD"
      },
      "execution_count": null,
      "outputs": []
    },
    {
      "cell_type": "code",
      "source": [
        "label_dict = {value: idx for idx, value in enumerate(activity_df['2017 NAICS Title'].unique())}\n",
        "activity_df['label'] = activity_df['2017 NAICS Title'].map(label_dict)\n"
      ],
      "metadata": {
        "id": "lImmsdUSgblo"
      },
      "execution_count": 6,
      "outputs": []
    },
    {
      "cell_type": "code",
      "source": [
        "# print(activity_df)"
      ],
      "metadata": {
        "id": "Me4NOK20ggoX"
      },
      "execution_count": 7,
      "outputs": []
    },
    {
      "cell_type": "code",
      "source": [
        "import pandas as pd\n",
        "from sklearn.feature_extraction.text import TfidfVectorizer\n",
        "from sklearn.ensemble import RandomForestClassifier\n",
        "from sklearn.model_selection import train_test_split\n",
        "from sklearn.metrics import classification_report, accuracy_score\n",
        "\n",
        "# Split data into features and labels\n",
        "X = activity_df['business_activity_description']  # Feature\n",
        "y = activity_df['label']  # Assuming 'label' is already encoded as numeric labels\n",
        "\n",
        "# Splitting dataset into training and testing sets\n",
        "X_train, X_test, y_train, y_test = train_test_split(X, y, test_size=0.2, random_state=42)\n",
        "\n",
        "# Initialize and fit the TF-IDF vectorizer on training data\n",
        "tfidf_vectorizer = TfidfVectorizer(max_features=1000)  # You can adjust max_features as needed\n",
        "X_train_tfidf = tfidf_vectorizer.fit_transform(X_train)\n",
        "\n",
        "# Initialize and fit the RandomForestClassifier\n",
        "clf = RandomForestClassifier(n_estimators=100, random_state=42)  # You can adjust parameters as needed\n",
        "clf.fit(X_train_tfidf, y_train)\n",
        "\n",
        "# Transform the test data using the same TF-IDF vectorizer\n",
        "X_test_tfidf = tfidf_vectorizer.transform(X_test)\n",
        "\n",
        "# Make predictions on the test data\n",
        "y_pred = clf.predict(X_test_tfidf)\n",
        "\n",
        "# Evaluate the model\n",
        "print(\"Classification Report:\\n\", classification_report(y_test, y_pred))\n",
        "print(\"Accuracy:\", accuracy_score(y_test, y_pred))\n",
        "\n",
        "# You can now use clf to make predictions on new data using the same tfidf_vectorizer to transform the new data\n",
        "\n"
      ],
      "metadata": {
        "colab": {
          "base_uri": "https://localhost:8080/"
        },
        "id": "KMQKWjTvxZuX",
        "outputId": "4162ea8e-9cc5-43be-ec4d-3049dd3419f0"
      },
      "execution_count": 8,
      "outputs": [
        {
          "output_type": "stream",
          "name": "stdout",
          "text": [
            "Classification Report:\n",
            "               precision    recall  f1-score   support\n",
            "\n",
            "           0       1.00      1.00      1.00        22\n",
            "           1       1.00      1.00      1.00        12\n",
            "           2       1.00      1.00      1.00        23\n",
            "           3       1.00      1.00      1.00        22\n",
            "           4       1.00      1.00      1.00        26\n",
            "           5       1.00      1.00      1.00        25\n",
            "           6       1.00      1.00      1.00        27\n",
            "           7       1.00      1.00      1.00        23\n",
            "           8       1.00      1.00      1.00        19\n",
            "           9       1.00      1.00      1.00        20\n",
            "          10       1.00      1.00      1.00        22\n",
            "          11       1.00      1.00      1.00        18\n",
            "          12       1.00      1.00      1.00        24\n",
            "          13       1.00      1.00      1.00        26\n",
            "          14       1.00      1.00      1.00        23\n",
            "          15       1.00      1.00      1.00        23\n",
            "          16       1.00      1.00      1.00        27\n",
            "          17       1.00      1.00      1.00        16\n",
            "          18       1.00      1.00      1.00        15\n",
            "          19       1.00      1.00      1.00        22\n",
            "          20       1.00      1.00      1.00        21\n",
            "          21       1.00      1.00      1.00        14\n",
            "          22       1.00      1.00      1.00        15\n",
            "          23       1.00      1.00      1.00        13\n",
            "          24       1.00      1.00      1.00        17\n",
            "          25       1.00      1.00      1.00        15\n",
            "          26       1.00      1.00      1.00        28\n",
            "          27       1.00      1.00      1.00        19\n",
            "          28       1.00      1.00      1.00        21\n",
            "          29       1.00      1.00      1.00        16\n",
            "          30       1.00      1.00      1.00        26\n",
            "          31       1.00      1.00      1.00        23\n",
            "          32       1.00      1.00      1.00        22\n",
            "          33       1.00      1.00      1.00        19\n",
            "          34       1.00      1.00      1.00        14\n",
            "          35       1.00      1.00      1.00        21\n",
            "          36       1.00      1.00      1.00        27\n",
            "          37       1.00      1.00      1.00        17\n",
            "          38       1.00      1.00      1.00        26\n",
            "          39       1.00      1.00      1.00        20\n",
            "          40       1.00      1.00      1.00        18\n",
            "          41       1.00      1.00      1.00        22\n",
            "          42       1.00      1.00      1.00        23\n",
            "          43       1.00      1.00      1.00        18\n",
            "          44       1.00      1.00      1.00        18\n",
            "          45       1.00      1.00      1.00        21\n",
            "          46       1.00      1.00      1.00        19\n",
            "          47       1.00      1.00      1.00        18\n",
            "          48       1.00      1.00      1.00        14\n",
            "\n",
            "    accuracy                           1.00      1000\n",
            "   macro avg       1.00      1.00      1.00      1000\n",
            "weighted avg       1.00      1.00      1.00      1000\n",
            "\n",
            "Accuracy: 1.0\n"
          ]
        }
      ]
    },
    {
      "cell_type": "code",
      "source": [
        "import pandas as pd\n",
        "from sklearn.metrics import classification_report, accuracy_score\n",
        "from sklearn.feature_extraction.text import TfidfVectorizer  # Assuming you've already fitted this with your training data\n",
        "\n",
        "# Assuming clf is your trained RandomForestClassifier and tfidf_vectorizer is your fitted TF-IDF vectorizer\n",
        "\n",
        "# Load the test data\n",
        "activity_test_data = drive.CreateFile({'id': '1Q6Sm-lxT-cpOJpFeLg_Leyj3w28Ff9GY'})\n",
        "activity_test_data.GetContentFile('business_activities_test_data.csv')\n",
        "test_df = pd.read_csv('business_activities_test_data.csv')\n",
        "test_df['encoded_labels'] = test_df['2017 NAICS Title'].apply(lambda x: label_dict.get(x, -1))  # Unseen labels get -1\n",
        "\n",
        "# Prepare the test data features and labels\n",
        "X_test_new = test_df['business_activity_description']  # Feature\n",
        "y_test_new = test_df['encoded_labels']  # Replace 'label' with the actual column name for labels in your test data\n",
        "\n",
        "# Transform the test data using the already fitted TF-IDF vectorizer\n",
        "X_test_new_tfidf = tfidf_vectorizer.transform(X_test_new)\n",
        "\n",
        "# Make predictions on the new test data\n",
        "y_pred_new = clf.predict(X_test_new_tfidf)\n",
        "\n",
        "# Evaluate the model on the new test data\n",
        "print(\"New Test Data - Classification Report:\\n\", classification_report(y_test_new, y_pred_new))\n",
        "print(\"New Test Data - Accuracy:\", accuracy_score(y_test_new, y_pred_new))\n"
      ],
      "metadata": {
        "colab": {
          "base_uri": "https://localhost:8080/"
        },
        "id": "eo4m24ijkcmP",
        "outputId": "eaf96bdf-86e4-4bfd-98ad-4d493dee35a1"
      },
      "execution_count": 9,
      "outputs": [
        {
          "output_type": "stream",
          "name": "stdout",
          "text": [
            "New Test Data - Classification Report:\n",
            "               precision    recall  f1-score   support\n",
            "\n",
            "           0       1.00      1.00      1.00        24\n",
            "           1       1.00      1.00      1.00        27\n",
            "           2       1.00      1.00      1.00        24\n",
            "           3       1.00      1.00      1.00        16\n",
            "           4       1.00      1.00      1.00        15\n",
            "           5       1.00      1.00      1.00        27\n",
            "           6       1.00      1.00      1.00        16\n",
            "           7       1.00      1.00      1.00        18\n",
            "           8       1.00      1.00      1.00        16\n",
            "           9       1.00      1.00      1.00        23\n",
            "          10       1.00      1.00      1.00        25\n",
            "          11       1.00      1.00      1.00        27\n",
            "          12       1.00      1.00      1.00        18\n",
            "          13       1.00      1.00      1.00        22\n",
            "          14       1.00      1.00      1.00        18\n",
            "          15       1.00      1.00      1.00        21\n",
            "          16       1.00      1.00      1.00        17\n",
            "          17       1.00      1.00      1.00        14\n",
            "          18       1.00      1.00      1.00        17\n",
            "          19       1.00      1.00      1.00        21\n",
            "          20       1.00      1.00      1.00        22\n",
            "          21       1.00      1.00      1.00        24\n",
            "          22       1.00      1.00      1.00        24\n",
            "          23       1.00      1.00      1.00        19\n",
            "          24       1.00      1.00      1.00        17\n",
            "          25       1.00      1.00      1.00        23\n",
            "          26       1.00      1.00      1.00        24\n",
            "          27       1.00      1.00      1.00        22\n",
            "          28       1.00      1.00      1.00        19\n",
            "          29       1.00      1.00      1.00        15\n",
            "          30       1.00      1.00      1.00        27\n",
            "          31       0.95      1.00      0.97        19\n",
            "          32       1.00      1.00      1.00        12\n",
            "          33       1.00      1.00      1.00        21\n",
            "          34       1.00      0.95      0.97        19\n",
            "          35       1.00      1.00      1.00        26\n",
            "          36       1.00      1.00      1.00        24\n",
            "          37       1.00      1.00      1.00        14\n",
            "          38       1.00      1.00      1.00        21\n",
            "          39       1.00      1.00      1.00        10\n",
            "          40       1.00      1.00      1.00        16\n",
            "          41       1.00      1.00      1.00        17\n",
            "          42       1.00      1.00      1.00        31\n",
            "          43       1.00      1.00      1.00        14\n",
            "          44       1.00      1.00      1.00        21\n",
            "          45       1.00      1.00      1.00        26\n",
            "          46       1.00      1.00      1.00        29\n",
            "          47       1.00      1.00      1.00        16\n",
            "          48       1.00      1.00      1.00        24\n",
            "\n",
            "    accuracy                           1.00      1002\n",
            "   macro avg       1.00      1.00      1.00      1002\n",
            "weighted avg       1.00      1.00      1.00      1002\n",
            "\n",
            "New Test Data - Accuracy: 0.999001996007984\n"
          ]
        }
      ]
    }
  ]
}