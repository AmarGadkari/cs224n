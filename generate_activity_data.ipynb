{
  "nbformat": 4,
  "nbformat_minor": 0,
  "metadata": {
    "colab": {
      "provenance": []
    },
    "kernelspec": {
      "name": "python3",
      "display_name": "Python 3"
    },
    "language_info": {
      "name": "python"
    }
  },
  "cells": [
    {
      "cell_type": "code",
      "source": [
        "from pydrive2.auth import GoogleAuth\n",
        "from pydrive2.drive import GoogleDrive\n",
        "from google.colab import auth\n",
        "from oauth2client.client import GoogleCredentials\n",
        "\n",
        "# Authenticate and create the PyDrive client\n",
        "auth.authenticate_user()\n",
        "gauth = GoogleAuth()\n",
        "gauth.credentials = GoogleCredentials.get_application_default()\n",
        "drive = GoogleDrive(gauth)"
      ],
      "metadata": {
        "id": "hOA-7tvJ2DjB"
      },
      "execution_count": 1,
      "outputs": []
    },
    {
      "cell_type": "code",
      "source": [
        "import pandas as pd\n",
        "\n",
        "activity_data = drive.CreateFile({'id': '1smUkjfTvvHmx2QiCfDImKOOtdCSb4dTk'})\n",
        "activity_data.GetContentFile('business_activities_training_data.csv')\n",
        "activity_df = pd.read_csv('business_activities_training_data.csv')\n",
        "print(activity_df.head())\n",
        "\n",
        "activity_test_data = drive.CreateFile({'id': '1Q6Sm-lxT-cpOJpFeLg_Leyj3w28Ff9GY'})\n",
        "activity_test_data.GetContentFile('business_activities_test_data.csv')\n",
        "test_df = pd.read_csv('business_activities_test_data.csv')\n"
      ],
      "metadata": {
        "colab": {
          "base_uri": "https://localhost:8080/"
        },
        "id": "jmP7MH-72FX0",
        "outputId": "838a89db-7a7e-4cd5-c9f1-390316e7e6ef"
      },
      "execution_count": 2,
      "outputs": [
        {
          "output_type": "stream",
          "name": "stdout",
          "text": [
            "                       business_activity_description      Cost       Vendor  \\\n",
            "0  Activities related to finfish farming and fish...  19824.14      CropGen   \n",
            "1  Activities related to dairy cattle and milk pr...  36390.68      CropGen   \n",
            "2               Activities related to orange groves.  18685.28   BioHarvest   \n",
            "3  Activities related to finfish farming and fish...  23104.34      CropGen   \n",
            "4           Activities related to shellfish farming.  18025.01  FreshFields   \n",
            "\n",
            "                                             Comment  \\\n",
            "0  Procured for finfish farming and fish hatcheri...   \n",
            "1  Procured for dairy cattle and milk production ...   \n",
            "2             Procured for orange groves operations.   \n",
            "3  Procured for finfish farming and fish hatcheri...   \n",
            "4         Procured for shellfish farming operations.   \n",
            "\n",
            "                      2017 NAICS Title  \n",
            "0  Finfish Farming and Fish Hatcheries  \n",
            "1     Dairy Cattle and Milk Production  \n",
            "2                        Orange Groves  \n",
            "3  Finfish Farming and Fish Hatcheries  \n",
            "4                    Shellfish Farming  \n"
          ]
        }
      ]
    },
    {
      "cell_type": "code",
      "source": [
        "import pandas as pd\n",
        "import numpy as np\n",
        "import random\n",
        "\n",
        "# NAICS Titles\n",
        "naics_titles = [\n",
        "    \"Soybean Farming\", \"Oilseed (except Soybean) Farming\", \"Dry Pea and Bean Farming\", \"Wheat Farming\",\n",
        "    \"Corn Farming\", \"Rice Farming\", \"Oilseed and Grain Combination Farming\", \"All Other Grain Farming\",\n",
        "    \"Potato Farming\", \"Other Vegetable (except Potato) and Melon Farming\", \"Orange Groves\", \"Citrus (except Orange) Groves\",\n",
        "    \"Apple Orchards\", \"Grape Vineyards\", \"Strawberry Farming\", \"Berry (except Strawberry) Farming\",\n",
        "    \"Tree Nut Farming\", \"Fruit and Tree Nut Combination Farming\", \"Other Noncitrus Fruit Farming\",\n",
        "    \"Mushroom Production\", \"Other Food Crops Grown Under Cover\", \"Nursery and Tree Production\",\n",
        "    \"Floriculture Production\", \"Tobacco Farming\", \"Cotton Farming\", \"Sugarcane Farming\", \"Hay Farming\",\n",
        "    \"Sugar Beet Farming\", \"Peanut Farming\", \"All Other Miscellaneous Crop Farming\",\n",
        "    \"Beef Cattle Ranching and Farming\", \"Cattle Feedlots\", \"Dairy Cattle and Milk Production\",\n",
        "    \"Dual-Purpose Cattle Ranching and Farming\", \"Hog and Pig Farming\", \"Chicken Egg Production\",\n",
        "    \"Broilers and Other Meat Type Chicken Production\", \"Turkey Production\", \"Poultry Hatcheries\",\n",
        "    \"Other Poultry Production\", \"Sheep Farming\", \"Goat Farming\", \"Finfish Farming and Fish Hatcheries\",\n",
        "    \"Shellfish Farming\", \"Other Aquaculture\", \"Apiculture\", \"Horses and Other Equine Production\",\n",
        "    \"Fur-Bearing Animal and Rabbit Production\", \"All Other Animal Production\"\n",
        "]\n",
        "\n",
        "# Sample vendors for simulation\n",
        "vendors = [\"AgriCorp\", \"BioHarvest\", \"CropGen\", \"EcoFarms\", \"FreshFields\"]\n",
        "\n",
        "# Function to generate a random cost\n",
        "def generate_cost():\n",
        "    return round(random.uniform(1000, 50000), 2)\n",
        "\n",
        "# Function to generate a cohesive comment\n",
        "def generate_comment(naics_title):\n",
        "    return f\"Procured for {naics_title.lower()} operations.\"\n",
        "\n",
        "# Generate synthetic data\n",
        "def generate_data(naics_titles, num_records=5000):\n",
        "    data = []\n",
        "    for _ in range(num_records):\n",
        "        naics_title = random.choice(naics_titles)\n",
        "        data.append({\n",
        "            \"business_activity_description\": f\"Activities related to {naics_title.lower()}.\",\n",
        "            \"Cost\": generate_cost(),\n",
        "            \"Vendor\": random.choice(vendors),\n",
        "            \"Comment\": generate_comment(naics_title),\n",
        "            \"2017 NAICS Title\": naics_title\n",
        "        })\n",
        "    return pd.DataFrame(data)\n",
        "\n",
        "# Generate the datasets\n",
        "data = generate_data(naics_titles, 6000)\n",
        "\n",
        "# Split into training and test sets\n",
        "train_data = data.sample(frac=0.833, random_state=42)  # 5000 records for training\n",
        "test_data = data.drop(train_data.index)  # Remaining 1000 records for testing\n",
        "\n",
        "train_data.to_csv('business_activities_training_data_enhanced.csv', index=False)\n",
        "test_data.to_csv('business_activities_test_data_enhanced.csv', index=False)\n"
      ],
      "metadata": {
        "id": "JzCqYFw7A5qN"
      },
      "execution_count": 5,
      "outputs": []
    }
  ]
}